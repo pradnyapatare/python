{
 "cells": [
  {
   "cell_type": "code",
   "execution_count": 1,
   "id": "06df73de",
   "metadata": {},
   "outputs": [
    {
     "name": "stdout",
     "output_type": "stream",
     "text": [
      "How many elements? "
     ]
    },
    {
     "name": "stdin",
     "output_type": "stream",
     "text": [
      " 5\n"
     ]
    },
    {
     "name": "stdout",
     "output_type": "stream",
     "text": [
      "Enter Element: "
     ]
    },
    {
     "name": "stdin",
     "output_type": "stream",
     "text": [
      " 45\n"
     ]
    },
    {
     "name": "stdout",
     "output_type": "stream",
     "text": [
      "Enter Element: "
     ]
    },
    {
     "name": "stdin",
     "output_type": "stream",
     "text": [
      " 89\n"
     ]
    },
    {
     "name": "stdout",
     "output_type": "stream",
     "text": [
      "Enter Element: "
     ]
    },
    {
     "name": "stdin",
     "output_type": "stream",
     "text": [
      " 15\n"
     ]
    },
    {
     "name": "stdout",
     "output_type": "stream",
     "text": [
      "Enter Element: "
     ]
    },
    {
     "name": "stdin",
     "output_type": "stream",
     "text": [
      " 2\n"
     ]
    },
    {
     "name": "stdout",
     "output_type": "stream",
     "text": [
      "Enter Element: "
     ]
    },
    {
     "name": "stdin",
     "output_type": "stream",
     "text": [
      " 99\n"
     ]
    },
    {
     "name": "stdout",
     "output_type": "stream",
     "text": [
      "the list is:  [45, 89, 15, 2, 99]\n",
      "Maximum number is:  99\n",
      "Minimum number is:  2\n",
      "Using Pre-defined function:\n",
      "Biggest number: 99\n",
      "Smallest number: 2\n"
     ]
    }
   ],
   "source": [
    "#Q1. A python program to find maximum and minimum in list of numbers\n",
    "#finding biggest and smallest numbers in a list of numbers\n",
    "x = [] #take an empty list\n",
    "print('How many elements? ', end='')\n",
    "n = int(input()) # accept input into n\n",
    "for i in range(n): #repeat for n times\n",
    "    print(\"Enter Element: \",end='')\n",
    "    x.append(int(input()))\n",
    "print('the list is: ',x)\n",
    "big = x[0] #initially 0th element becomes maximum and minimum\n",
    "small = x[0]\n",
    "\n",
    "for i in range(1,n):\n",
    "    if x[i]>big: big=x[i] # if any other element is > big. take it as big\n",
    "    if x[i]<small: small=x[i] # if any other element is < small . take it as small\n",
    "print(\"Maximum number is: \",big)\n",
    "print(\"Minimum number is: \",small)\n",
    "        \n",
    "#using pre-defined function get maxmium and minimum value\n",
    "print(\"Using Pre-defined function:\")\n",
    "Biggest_num = max(x)\n",
    "print('Biggest number:',Biggest_num)\n",
    "Smallest_num = min(x)\n",
    "print('Smallest number:',Smallest_num)\n"
   ]
  },
  {
   "cell_type": "code",
   "execution_count": 2,
   "id": "e8caf25a",
   "metadata": {},
   "outputs": [
    {
     "name": "stdout",
     "output_type": "stream",
     "text": [
      "how many elements? "
     ]
    },
    {
     "name": "stdin",
     "output_type": "stream",
     "text": [
      " 5\n"
     ]
    },
    {
     "name": "stdout",
     "output_type": "stream",
     "text": [
      "Enter element: "
     ]
    },
    {
     "name": "stdin",
     "output_type": "stream",
     "text": [
      " 75\n"
     ]
    },
    {
     "name": "stdout",
     "output_type": "stream",
     "text": [
      "Enter element: "
     ]
    },
    {
     "name": "stdin",
     "output_type": "stream",
     "text": [
      " 0\n"
     ]
    },
    {
     "name": "stdout",
     "output_type": "stream",
     "text": [
      "Enter element: "
     ]
    },
    {
     "name": "stdin",
     "output_type": "stream",
     "text": [
      " 15\n"
     ]
    },
    {
     "name": "stdout",
     "output_type": "stream",
     "text": [
      "Enter element: "
     ]
    },
    {
     "name": "stdin",
     "output_type": "stream",
     "text": [
      " 3\n"
     ]
    },
    {
     "name": "stdout",
     "output_type": "stream",
     "text": [
      "Enter element: "
     ]
    },
    {
     "name": "stdin",
     "output_type": "stream",
     "text": [
      " 42\n"
     ]
    },
    {
     "name": "stdout",
     "output_type": "stream",
     "text": [
      "Original list: [75, 0, 15, 3, 42]\n",
      "sorted list: [0, 3, 15, 42, 75]\n"
     ]
    }
   ],
   "source": [
    "#Q2. A python program to sort the list elements using bubble sort technique.\n",
    "#sorting a list using bubble sort technique\n",
    "#create an empty list to store integers\n",
    "x = []\n",
    "#store elements into the list x\n",
    "print('how many elements? ',end='')\n",
    "n = int(input()) #accept input into n\n",
    "for i in range(n): # repeat n times\n",
    "    print(\"Enter element: \",end='')\n",
    "    x.append(int(input()))\n",
    "print(\"Original list:\",x)\n",
    "\n",
    "#bubble sort\n",
    "flag = False # when swapping is done , flag becomes True\n",
    "for i in range(n-1): # i is from 0 to n-1\n",
    "    for j in range(n-1-i): # j is from 0 to one element lesser than i\n",
    "        if x[j] > x[j+1]: # if 1st element is bigger than the 2nd one\n",
    "            temp = x[j] # swap j and j+1 elements\n",
    "            x[j] = x[j+1]\n",
    "            x[j+1] = temp\n",
    "            flag = True # swapping done ,hence flag is True\n",
    "    if flag ==False: # no swapping done,hence flag is true\n",
    "        break #come out of inner for loop\n",
    "    else:\n",
    "        flag = False #assign initial value to flag\n",
    "        \n",
    "print('sorted list:',x)\n",
    "\n",
    "#\n"
   ]
  },
  {
   "cell_type": "code",
   "execution_count": 3,
   "id": "5b2d6c0f",
   "metadata": {},
   "outputs": [
    {
     "name": "stdout",
     "output_type": "stream",
     "text": [
      "Ascending order sorted list:  [0, 12, 34, 67, 245]\n",
      "Descending order sorted list:  [245, 67, 34, 12, 0]\n"
     ]
    }
   ],
   "source": [
    "# using sort() method\n",
    "s = [12,34,67,0,245]\n",
    "s.sort()\n",
    "print(\"Ascending order sorted list: \", s) # This will sort list 's' into ascending order.\n",
    "s.sort(reverse=True)\n",
    "print(\"Descending order sorted list: \",s) # this will sort list 's' into decending order"
   ]
  },
  {
   "cell_type": "code",
   "execution_count": 4,
   "id": "185fdf2f",
   "metadata": {},
   "outputs": [
    {
     "name": "stdin",
     "output_type": "stream",
     "text": [
      "How many elements?  5\n"
     ]
    },
    {
     "name": "stdout",
     "output_type": "stream",
     "text": [
      "Enter element: "
     ]
    },
    {
     "name": "stdin",
     "output_type": "stream",
     "text": [
      " 1\n"
     ]
    },
    {
     "name": "stdout",
     "output_type": "stream",
     "text": [
      "Enter element: "
     ]
    },
    {
     "name": "stdin",
     "output_type": "stream",
     "text": [
      " 5\n"
     ]
    },
    {
     "name": "stdout",
     "output_type": "stream",
     "text": [
      "Enter element: "
     ]
    },
    {
     "name": "stdin",
     "output_type": "stream",
     "text": [
      " 1\n"
     ]
    },
    {
     "name": "stdout",
     "output_type": "stream",
     "text": [
      "Enter element: "
     ]
    },
    {
     "name": "stdin",
     "output_type": "stream",
     "text": [
      " 2\n"
     ]
    },
    {
     "name": "stdout",
     "output_type": "stream",
     "text": [
      "Enter element: "
     ]
    },
    {
     "name": "stdin",
     "output_type": "stream",
     "text": [
      " 5\n"
     ]
    },
    {
     "name": "stdout",
     "output_type": "stream",
     "text": [
      "The list is :  [1, 5, 1, 2, 5]\n"
     ]
    },
    {
     "name": "stdin",
     "output_type": "stream",
     "text": [
      "Enter element to count:  1\n"
     ]
    },
    {
     "name": "stdout",
     "output_type": "stream",
     "text": [
      "1 is found 2 times\n"
     ]
    }
   ],
   "source": [
    "#Q3. To know how many times an element occurred in the list\n",
    "\n",
    "#Counting how many times an element occurred in the list\n",
    "x = []\n",
    "n = int(input('How many elements? ')) # access input into x\n",
    "\n",
    "for i in range(n): # repeat for n times\n",
    "    print('Enter element: ',end='')\n",
    "    x.append(int(input()))\n",
    "print('The list is : ',x)# display the list\n",
    "\n",
    "y = int(input('Enter element to count: '))\n",
    "count = 0\n",
    "for i in x:\n",
    "    if(y == i):\n",
    "        count+=1\n",
    "print(\"{} is found {} times\".format(y,count))"
   ]
  },
  {
   "cell_type": "code",
   "execution_count": 5,
   "id": "14edaeab",
   "metadata": {},
   "outputs": [
    {
     "name": "stdout",
     "output_type": "stream",
     "text": [
      "['govind', 'priya']\n"
     ]
    }
   ],
   "source": [
    "#Q3. Finding common elements in two lists\n",
    "#finding common elements in two lists\n",
    "# take two lists\n",
    "name_1 = ['vinay','krishana','priya','radhika','govind','riya']\n",
    "name_2 = ['ram','priya','govind','aditya','prachi']\n",
    "#convert them into sets\n",
    "s1 = set(name_1)\n",
    "s2 = set(name_2)\n",
    "#find intersection of two sets\n",
    "s3 = s1.intersection(s2)\n",
    "#convert the resultant set into a list\n",
    "common = list(s3)\n",
    "#display the list\n",
    "print(common)"
   ]
  },
  {
   "cell_type": "code",
   "execution_count": 6,
   "id": "706df091",
   "metadata": {},
   "outputs": [
    {
     "name": "stdin",
     "output_type": "stream",
     "text": [
      "how many employees?  4\n"
     ]
    },
    {
     "name": "stdout",
     "output_type": "stream",
     "text": [
      "Enter id: "
     ]
    },
    {
     "name": "stdin",
     "output_type": "stream",
     "text": [
      " 1\n"
     ]
    },
    {
     "name": "stdout",
     "output_type": "stream",
     "text": [
      "Enter name: "
     ]
    },
    {
     "name": "stdin",
     "output_type": "stream",
     "text": [
      " Priya\n"
     ]
    },
    {
     "name": "stdout",
     "output_type": "stream",
     "text": [
      "Enter salary: "
     ]
    },
    {
     "name": "stdin",
     "output_type": "stream",
     "text": [
      " 7000\n"
     ]
    },
    {
     "name": "stdout",
     "output_type": "stream",
     "text": [
      "Enter id: "
     ]
    },
    {
     "name": "stdin",
     "output_type": "stream",
     "text": [
      " 2\n"
     ]
    },
    {
     "name": "stdout",
     "output_type": "stream",
     "text": [
      "Enter name: "
     ]
    },
    {
     "name": "stdin",
     "output_type": "stream",
     "text": [
      " Radha\n"
     ]
    },
    {
     "name": "stdout",
     "output_type": "stream",
     "text": [
      "Enter salary: "
     ]
    },
    {
     "name": "stdin",
     "output_type": "stream",
     "text": [
      " 1500\n"
     ]
    },
    {
     "name": "stdout",
     "output_type": "stream",
     "text": [
      "Enter id: "
     ]
    },
    {
     "name": "stdin",
     "output_type": "stream",
     "text": [
      " 3\n"
     ]
    },
    {
     "name": "stdout",
     "output_type": "stream",
     "text": [
      "Enter name: "
     ]
    },
    {
     "name": "stdin",
     "output_type": "stream",
     "text": [
      " Pradeep\n"
     ]
    },
    {
     "name": "stdout",
     "output_type": "stream",
     "text": [
      "Enter salary: "
     ]
    },
    {
     "name": "stdin",
     "output_type": "stream",
     "text": [
      " 7500\n"
     ]
    },
    {
     "name": "stdout",
     "output_type": "stream",
     "text": [
      "Enter id: "
     ]
    },
    {
     "name": "stdin",
     "output_type": "stream",
     "text": [
      " 4\n"
     ]
    },
    {
     "name": "stdout",
     "output_type": "stream",
     "text": [
      "Enter name: "
     ]
    },
    {
     "name": "stdin",
     "output_type": "stream",
     "text": [
      " Rohan\n"
     ]
    },
    {
     "name": "stdout",
     "output_type": "stream",
     "text": [
      "Enter salary: "
     ]
    },
    {
     "name": "stdin",
     "output_type": "stream",
     "text": [
      " 8000\n"
     ]
    },
    {
     "name": "stdout",
     "output_type": "stream",
     "text": [
      "The list is created with employee data.\n"
     ]
    },
    {
     "name": "stdin",
     "output_type": "stream",
     "text": [
      "Enter employee id:  2\n"
     ]
    },
    {
     "name": "stdout",
     "output_type": "stream",
     "text": [
      "Id =2, Name= Radha,Salary= 1500.00\n"
     ]
    }
   ],
   "source": [
    "#Q4. To create a list with employee data and then retrive a particular employee details.\n",
    "#retriving employee details from a list\n",
    "emp =[] #take an empty list\n",
    "n = int(input('how many employees? ')) #accept input into n\n",
    "for i in range(n): #repeat n times\n",
    "    print(\"Enter id: \",end='')\n",
    "    emp.append(int(input()))\n",
    "    print(\"Enter name: \",end='')\n",
    "    emp.append(input())\n",
    "    print(\"Enter salary: \",end='')\n",
    "    emp.append(float(input()))\n",
    "    \n",
    "print('The list is created with employee data.')\n",
    "id = int(input('Enter employee id: '))\n",
    "#display employee details upon taking id.\n",
    "for i in range(len(emp)):\n",
    "    if id==emp[i]:\n",
    "        print('Id ={:d}, Name= {:s},Salary= {:.2f}'.format(emp[i],emp[i+1],emp[i+2]))\n",
    "        break"
   ]
  },
  {
   "cell_type": "code",
   "execution_count": 7,
   "id": "3be93d74",
   "metadata": {},
   "outputs": [
    {
     "name": "stdout",
     "output_type": "stream",
     "text": [
      "Total list:  [10, 20, 30, [100, 200]]\n",
      "First element:  10\n",
      "Last element:  [100, 200]\n",
      "100\n",
      "200\n"
     ]
    }
   ],
   "source": [
    "#Q5. To create a nested list and display its elements\n",
    "# To create a list with another list as element\n",
    "list =[10,20,30,[100,200]]\n",
    "print('Total list: ',list) #display entire list\n",
    "print('First element: ',list[0]) #display first element\n",
    "print('Last element: ',list[3]) # display last element\n",
    "for x in list[3]:\n",
    "    print(x)"
   ]
  },
  {
   "cell_type": "code",
   "execution_count": 8,
   "id": "feca797c",
   "metadata": {},
   "outputs": [
    {
     "name": "stdout",
     "output_type": "stream",
     "text": [
      "Display the list as it is: \n",
      "[[1, 2, 3], [4, 5, 6], [7, 8, 9]]\n",
      "Display row by row: \n",
      "[1, 2, 3]\n",
      "[4, 5, 6]\n",
      "[7, 8, 9]\n",
      "Display each row column in row 0: \n",
      "1 2 3 \n",
      "Display each row column in row 1: \n",
      "4 5 6 \n",
      "Display each row column in row 2: \n",
      "7 8 9 \n",
      "Display all elements using for: \n",
      "123\n",
      "456\n",
      "789\n",
      "Display all elements using for: \n",
      "123\n",
      "456\n",
      "789\n"
     ]
    }
   ],
   "source": [
    "#Q6. To retrieve elements from a matrix and display them.\n",
    "#display nested list as a matrix\n",
    "#take a nested list\n",
    "matrix = [[1,2,3],[4,5,6],[7,8,9]]\n",
    "print('Display the list as it is: ')\n",
    "print(matrix)\n",
    "\n",
    "print('Display row by row: ')\n",
    "for r in matrix:\n",
    "    print(r) \n",
    "\n",
    "print('Display each row column in row 0: ')\n",
    "for c in matrix[0]:\n",
    "    print('%d' %c,end=' ')\n",
    "print()\n",
    "\n",
    "print('Display each row column in row 1: ')\n",
    "for c in matrix[1]:\n",
    "    print('%d' %c,end=' ')\n",
    "print()\n",
    "\n",
    "print('Display each row column in row 2: ')\n",
    "for c in matrix[2]:\n",
    "    print('%d' %c,end=' ')\n",
    "print()\n",
    "\n",
    "print('Display all elements using for: ')\n",
    "for row in matrix:\n",
    "    for col in row: #display columns in each row\n",
    "        print(col,end='')\n",
    "    print()\n",
    "\n",
    "print('Display all elements using for: ')\n",
    "for i in range(len(matrix)):\n",
    "    for j in range(len(matrix[i])):\n",
    "        print('%d'%matrix[i][j],end='')\n",
    "    print()\n",
    "        "
   ]
  },
  {
   "cell_type": "code",
   "execution_count": 9,
   "id": "b8733a71",
   "metadata": {},
   "outputs": [
    {
     "name": "stdout",
     "output_type": "stream",
     "text": [
      "2 4 6 4 \n",
      "5 5 7 0 \n",
      "9 7 7 1 \n"
     ]
    }
   ],
   "source": [
    "#Q7. To add two matrices and display the sum matrix using lists\n",
    "#nested lists - matrix addition\n",
    "#take matrix one with 3 rows and 4 cols\n",
    "m1 = [\n",
    "    [1,2,3,0],\n",
    "    [4,5,6,0],\n",
    "    [7,8,9,0] ]\n",
    "\n",
    "#take matrix two with 3 rows and 4 cols\n",
    "m2 =[\n",
    "    [1,2,3,4],\n",
    "    [1,0,1,0],\n",
    "    [2,-1,-2,1]]\n",
    "\n",
    "#take matrix three with 3 rows and 4 cols and initialize with all 0's\n",
    "m3 = [4*[0] for i in range(3)]\n",
    "\n",
    "#add the corressponding elements of m1 and m2 and store into m3\n",
    "for i in range(3):\n",
    "    for j in range(4):\n",
    "        m3[i][j] = m1[i][j] + m2[i][j]\n",
    "        \n",
    "#display the third matrix using for loop\n",
    "for i in range(3):\n",
    "    for j in range(4):\n",
    "        print('%d '%m3[i][j],end='')\n",
    "    print()\n"
   ]
  },
  {
   "cell_type": "code",
   "execution_count": null,
   "id": "55e04259",
   "metadata": {},
   "outputs": [],
   "source": []
  }
 ],
 "metadata": {
  "kernelspec": {
   "display_name": "Python 3 (ipykernel)",
   "language": "python",
   "name": "python3"
  },
  "language_info": {
   "codemirror_mode": {
    "name": "ipython",
    "version": 3
   },
   "file_extension": ".py",
   "mimetype": "text/x-python",
   "name": "python",
   "nbconvert_exporter": "python",
   "pygments_lexer": "ipython3",
   "version": "3.10.13"
  }
 },
 "nbformat": 4,
 "nbformat_minor": 5
}
