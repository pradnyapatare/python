{
 "cells": [
  {
   "cell_type": "markdown",
   "id": "d3bb8dad-1ffd-460f-abb6-c0a8880e362f",
   "metadata": {},
   "source": [
    "# Q1.Write python program to reverse a string"
   ]
  },
  {
   "cell_type": "code",
   "execution_count": 1,
   "id": "3603b45d-ce83-4956-b527-fa412d7f1b5f",
   "metadata": {},
   "outputs": [
    {
     "name": "stdout",
     "output_type": "stream",
     "text": [
      "Reverse String =  ayndarP \n"
     ]
    }
   ],
   "source": [
    "def reverse_string(input_string):\n",
    "    return input_string[::-1]\n",
    "input_string = \" Pradnya\"\n",
    "print(\"Reverse String = \", reverse_string(input_string))"
   ]
  },
  {
   "cell_type": "markdown",
   "id": "63d77714-2295-4aee-a4a2-c586be7359f2",
   "metadata": {},
   "source": [
    "# Q2.Write python program to reverse a sentence."
   ]
  },
  {
   "cell_type": "code",
   "execution_count": 2,
   "id": "182c65c5-e368-433b-91be-366b4dfff520",
   "metadata": {},
   "outputs": [
    {
     "name": "stdout",
     "output_type": "stream",
     "text": [
      "Reverse sentence= sentence the Reverse\n"
     ]
    }
   ],
   "source": [
    "def reverse_sentence(sentence):\n",
    "    result =[]\n",
    "    for i in sentence.split():\n",
    "        result.insert(0,i)\n",
    "    return result\n",
    "    \n",
    "sentence =\"Reverse the sentence\"\n",
    "print(\"Reverse sentence=\",\" \".join(reverse_sentence(sentence)))\n",
    "        "
   ]
  },
  {
   "cell_type": "markdown",
   "id": "c18e1494-1e4b-45d0-8091-47b4d05878e2",
   "metadata": {},
   "source": [
    "# using list comprehension reverse a sentence"
   ]
  },
  {
   "cell_type": "code",
   "execution_count": 3,
   "id": "e93228b2-7628-4e81-acd8-20f1e22cc585",
   "metadata": {},
   "outputs": [
    {
     "name": "stdout",
     "output_type": "stream",
     "text": [
      "Result:  ['sentence', 'the', 'Reverse']\n",
      "reverse sentence:  sentence the Reverse\n"
     ]
    }
   ],
   "source": [
    "result=[ i for i in sentence.split()][::-1]\n",
    "print(\"Result: \", result)\n",
    "print(\"reverse sentence: \", \" \".join(result))"
   ]
  },
  {
   "cell_type": "markdown",
   "id": "1122e911-adb3-4f10-80e4-c7a59d24dd0b",
   "metadata": {},
   "source": [
    "# Q3.Write a python program to check if a string is a palindrome"
   ]
  },
  {
   "cell_type": "code",
   "execution_count": 4,
   "id": "315ef999-5b0f-497c-994d-798c9e3df3cd",
   "metadata": {},
   "outputs": [
    {
     "name": "stdout",
     "output_type": "stream",
     "text": [
      "Checking string is panlindrome or not: True\n"
     ]
    }
   ],
   "source": [
    "def is_palindrome(input_string):\n",
    "    return input_string == input_string[::-1]\n",
    "\n",
    "string = \"radar\"\n",
    "## true for panlindrome and False not palindrome\n",
    "print(\"Checking string is panlindrome or not:\", is_palindrome(string)) "
   ]
  },
  {
   "cell_type": "markdown",
   "id": "16ba17de-2d3f-4079-9a4d-fc898ee6c768",
   "metadata": {},
   "source": [
    "# Q4.write python code to count the number of vowels in a string."
   ]
  },
  {
   "cell_type": "code",
   "execution_count": 5,
   "id": "d2b28af7-8408-4dab-b8a1-677350fefe4e",
   "metadata": {},
   "outputs": [
    {
     "name": "stdout",
     "output_type": "stream",
     "text": [
      "Counting the vowels  3\n"
     ]
    }
   ],
   "source": [
    "def count_vowels(input_string):\n",
    "    vowels = \"aeiouAEIOU\"\n",
    "    return sum(1 for char in input_string if char in vowels)\n",
    "string_vowels = \"Abhira\"\n",
    "print(\"Counting the vowels \", count_vowels(string_vowels))"
   ]
  },
  {
   "cell_type": "code",
   "execution_count": 6,
   "id": "a4ad8989-f0f5-4d5c-998e-0519a88cb4f9",
   "metadata": {},
   "outputs": [
    {
     "name": "stdout",
     "output_type": "stream",
     "text": [
      "{2: 1}\n",
      "{2: 1, 3: 1}\n",
      "{2: 1, 3: 1, 4: 1}\n",
      "{2: 2, 3: 1, 4: 1}\n",
      "{2: 2, 3: 1, 4: 2}\n",
      "{2: 2, 3: 1, 4: 2, 5: 1}\n",
      "{2: 2, 3: 1, 4: 2, 5: 1, 6: 1}\n"
     ]
    },
    {
     "data": {
      "text/plain": [
       "2"
      ]
     },
     "execution_count": 6,
     "metadata": {},
     "output_type": "execute_result"
    }
   ],
   "source": [
    "input_string = [2,3,4,2, 4,5,6]\n",
    "char_count = {}\n",
    "for char in input_string:\n",
    "    char_count[char] = char_count.get(char,0) +1\n",
    "    print(char_count)\n",
    "result = max(char_count, key = char_count.get)\n",
    "result"
   ]
  },
  {
   "cell_type": "markdown",
   "id": "541f0efb-de55-4c3b-bfa1-52c19aa487a0",
   "metadata": {},
   "source": [
    "# Q5.Write a python program to find the most frequent character in string."
   ]
  },
  {
   "cell_type": "code",
   "execution_count": 7,
   "id": "73247794-b62d-4f8a-ace2-d0d723928942",
   "metadata": {},
   "outputs": [
    {
     "name": "stdout",
     "output_type": "stream",
     "text": [
      "{'d': 1}\n",
      "{'d': 1, 'a': 1}\n",
      "{'d': 1, 'a': 1, 't': 1}\n",
      "{'d': 1, 'a': 2, 't': 1}\n",
      "{'d': 1, 'a': 2, 't': 1, 's': 1}\n",
      "{'d': 1, 'a': 2, 't': 1, 's': 1, 'c': 1}\n",
      "{'d': 1, 'a': 2, 't': 1, 's': 1, 'c': 1, 'i': 1}\n",
      "{'d': 1, 'a': 2, 't': 1, 's': 1, 'c': 1, 'i': 1, 'e': 1}\n",
      "{'d': 1, 'a': 2, 't': 1, 's': 1, 'c': 1, 'i': 1, 'e': 1, 'n': 1}\n",
      "{'d': 1, 'a': 2, 't': 1, 's': 1, 'c': 2, 'i': 1, 'e': 1, 'n': 1}\n",
      "{'d': 1, 'a': 2, 't': 1, 's': 1, 'c': 2, 'i': 1, 'e': 2, 'n': 1}\n",
      "most frequent charcter in string: a\n"
     ]
    }
   ],
   "source": [
    "def most_frequent_char(input_string):\n",
    "    char_count = {}\n",
    "    for char in input_string:\n",
    "        char_count[char] = char_count.get(char,0) +1\n",
    "        print(char_count)\n",
    "    return max(char_count, key = char_count.get)\n",
    "string =\"datascience\"\n",
    "print(\"most frequent charcter in string:\", most_frequent_char(string))"
   ]
  },
  {
   "cell_type": "markdown",
   "id": "e4e76377-1e87-4cbd-9589-8436da877dcb",
   "metadata": {},
   "source": [
    "# Q6.Write a python program to remove all duplicates from a string and return the result"
   ]
  },
  {
   "cell_type": "code",
   "execution_count": 8,
   "id": "c4196b20-7b79-4aa8-9a8d-800de6f88e03",
   "metadata": {},
   "outputs": [
    {
     "name": "stdout",
     "output_type": "stream",
     "text": [
      "remove all duplicates from string: datscien\n"
     ]
    }
   ],
   "source": [
    "def remove_duplicates(input_string):\n",
    "    return \"\".join(sorted(set(input_string), key= input_string.index))\n",
    "string = \"datascience\"\n",
    "print(\"remove all duplicates from string:\", remove_duplicates(string))"
   ]
  },
  {
   "cell_type": "code",
   "execution_count": null,
   "id": "847f35f5-8588-48b8-aff4-cc8deaba8079",
   "metadata": {},
   "outputs": [],
   "source": [
    "\n"
   ]
  },
  {
   "cell_type": "code",
   "execution_count": null,
   "id": "15a316d2-ebb9-407c-9653-1ea17497c51a",
   "metadata": {},
   "outputs": [],
   "source": []
  },
  {
   "cell_type": "code",
   "execution_count": null,
   "id": "041c981b-df97-4f82-b4fc-3784f47196fc",
   "metadata": {},
   "outputs": [],
   "source": []
  }
 ],
 "metadata": {
  "kernelspec": {
   "display_name": "Python 3 (ipykernel)",
   "language": "python",
   "name": "python3"
  },
  "language_info": {
   "codemirror_mode": {
    "name": "ipython",
    "version": 3
   },
   "file_extension": ".py",
   "mimetype": "text/x-python",
   "name": "python",
   "nbconvert_exporter": "python",
   "pygments_lexer": "ipython3",
   "version": "3.10.13"
  }
 },
 "nbformat": 4,
 "nbformat_minor": 5
}
